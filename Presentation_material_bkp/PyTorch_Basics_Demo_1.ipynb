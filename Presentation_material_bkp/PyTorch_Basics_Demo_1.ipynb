{
  "nbformat": 4,
  "nbformat_minor": 0,
  "metadata": {
    "colab": {
      "provenance": [],
      "gpuType": "T4"
    },
    "kernelspec": {
      "name": "python3",
      "display_name": "Python 3"
    },
    "language_info": {
      "name": "python"
    },
    "accelerator": "GPU"
  },
  "cells": [
    {
      "cell_type": "markdown",
      "source": [
        "# The Basics of Pytorch\n",
        "---\n",
        "\n",
        "## 1. Tensors:\n",
        "Tensors are the foundation of PyTorch and serve as the building blocks for all operations. They are similar to NumPy arrays except Tensors also work on sophisticated hardware like GPUs and TPUs, which significantly boost processing speed.\n",
        "\n",
        "Tensors can have different dimensionalities (this is also called rank in the research litreature):\n",
        "\n",
        "- Scalar Tensor: A single value.\n",
        "- Vector Tensor: A 1D array of values.\n",
        "- Matrix Tensor: A 2D array of values.\n",
        "- Higher-Dimensional Tensor: Arrays with more than two dimensions."
      ],
      "metadata": {
        "id": "qha19bbv2T0B"
      }
    },
    {
      "cell_type": "code",
      "source": [
        "!pip install onnx"
      ],
      "metadata": {
        "colab": {
          "base_uri": "https://localhost:8080/"
        },
        "id": "-m5aPh4mEwEc",
        "outputId": "b79f54a0-4230-4cf4-cd67-b137e9b6e311"
      },
      "execution_count": 13,
      "outputs": [
        {
          "output_type": "stream",
          "name": "stdout",
          "text": [
            "Collecting onnx\n",
            "  Downloading onnx-1.14.1-cp310-cp310-manylinux_2_17_x86_64.manylinux2014_x86_64.whl (14.6 MB)\n",
            "\u001b[2K     \u001b[90m━━━━━━━━━━━━━━━━━━━━━━━━━━━━━━━━━━━━━━━━\u001b[0m \u001b[32m14.6/14.6 MB\u001b[0m \u001b[31m67.8 MB/s\u001b[0m eta \u001b[36m0:00:00\u001b[0m\n",
            "\u001b[?25hRequirement already satisfied: numpy in /usr/local/lib/python3.10/dist-packages (from onnx) (1.23.5)\n",
            "Requirement already satisfied: protobuf>=3.20.2 in /usr/local/lib/python3.10/dist-packages (from onnx) (3.20.3)\n",
            "Requirement already satisfied: typing-extensions>=3.6.2.1 in /usr/local/lib/python3.10/dist-packages (from onnx) (4.7.1)\n",
            "Installing collected packages: onnx\n",
            "Successfully installed onnx-1.14.1\n"
          ]
        }
      ]
    },
    {
      "cell_type": "code",
      "execution_count": null,
      "metadata": {
        "id": "41VTWAxv2LME"
      },
      "outputs": [],
      "source": [
        "import torch"
      ]
    },
    {
      "cell_type": "markdown",
      "source": [
        "### Creating Tensors"
      ],
      "metadata": {
        "id": "4BRpPJIq41Lw"
      }
    },
    {
      "cell_type": "code",
      "source": [
        "# Creating Tensors on CPU and GPU\n",
        "cpu_tensor = torch.tensor([1, 2, 3])\n",
        "gpu_tensor = torch.tensor([1, 2, 3], device = \"cuda\")\n",
        "\n",
        "# Creating Random Tensors\n",
        "random_tensor = torch.rand(3, 3)  # 3x3 random tensor between 0 and 1\n",
        "randn_tensor = torch.randn(3, 3)  # 3x3 random tensor from normal distribution\n",
        "\n",
        "print(cpu_tensor)\n",
        "print(gpu_tensor)\n",
        "print(random_tensor)\n",
        "print(randn_tensor)"
      ],
      "metadata": {
        "colab": {
          "base_uri": "https://localhost:8080/"
        },
        "id": "RWHPn-Eo4Cb6",
        "outputId": "c5640801-367c-4c82-9721-600762e2c066"
      },
      "execution_count": null,
      "outputs": [
        {
          "output_type": "stream",
          "name": "stdout",
          "text": [
            "tensor([1, 2, 3])\n",
            "tensor([1, 2, 3], device='cuda:0')\n",
            "tensor([[0.3023, 0.1553, 0.1202],\n",
            "        [0.2431, 0.4662, 0.6872],\n",
            "        [0.4119, 0.8847, 0.2745]])\n",
            "tensor([[ 2.0847,  0.9870,  0.4378],\n",
            "        [-0.4401,  1.1539, -0.0938],\n",
            "        [ 1.4475,  0.0574,  1.2382]])\n"
          ]
        }
      ]
    },
    {
      "cell_type": "markdown",
      "source": [
        "Torch Tensors work just like numpy arrays and a lot of the syntax is just like numpy for example we can use the (+, -, *, /...) operators in pytorch just like numpy arrays\n",
        "\n",
        "A lot of the trig and exponential functions work just like numpy as well"
      ],
      "metadata": {
        "id": "P6szJ4Rd7H16"
      }
    },
    {
      "cell_type": "code",
      "source": [
        "tensor_a = torch.tensor([1, 2, 3])\n",
        "tensor_b = torch.tensor([4, 5, 6])\n",
        "\n",
        "# Element-wise addition\n",
        "result_add = tensor_a + tensor_b\n",
        "sin_a = torch.sin(tensor_a) # Can also use cos, tan, tanh...\n",
        "\n",
        "print(result_add)\n",
        "print(sin_a)"
      ],
      "metadata": {
        "colab": {
          "base_uri": "https://localhost:8080/"
        },
        "id": "KPGAdUUX7DPn",
        "outputId": "0566f0b7-0d88-409a-b32d-3ff7028b237e"
      },
      "execution_count": null,
      "outputs": [
        {
          "output_type": "stream",
          "name": "stdout",
          "text": [
            "tensor([5, 7, 9])\n",
            "tensor([0.8415, 0.9093, 0.1411])\n"
          ]
        }
      ]
    },
    {
      "cell_type": "code",
      "source": [
        "cpu_tensor + gpu_tensor"
      ],
      "metadata": {
        "colab": {
          "base_uri": "https://localhost:8080/",
          "height": 175
        },
        "id": "K2Cd7whs9GDL",
        "outputId": "b2c7f55a-4b6c-42c9-e7b2-ba1fa1f469ff"
      },
      "execution_count": null,
      "outputs": [
        {
          "output_type": "error",
          "ename": "RuntimeError",
          "evalue": "ignored",
          "traceback": [
            "\u001b[0;31m---------------------------------------------------------------------------\u001b[0m",
            "\u001b[0;31mRuntimeError\u001b[0m                              Traceback (most recent call last)",
            "\u001b[0;32m<ipython-input-5-54121d65cbed>\u001b[0m in \u001b[0;36m<cell line: 1>\u001b[0;34m()\u001b[0m\n\u001b[0;32m----> 1\u001b[0;31m \u001b[0mcpu_tensor\u001b[0m \u001b[0;34m+\u001b[0m \u001b[0mgpu_tensor\u001b[0m\u001b[0;34m\u001b[0m\u001b[0;34m\u001b[0m\u001b[0m\n\u001b[0m",
            "\u001b[0;31mRuntimeError\u001b[0m: Expected all tensors to be on the same device, but found at least two devices, cuda:0 and cpu!"
          ]
        }
      ]
    },
    {
      "cell_type": "markdown",
      "source": [
        "### We can also do Linear Algebra just like `np.linalg`"
      ],
      "metadata": {
        "id": "Up53YYcSL8xI"
      }
    },
    {
      "cell_type": "code",
      "source": [
        "import torch\n",
        "\n",
        "# Create square matrix\n",
        "matrix = torch.tensor([[1, 2],\n",
        "                       [2, 5],], dtype=torch.float32)\n",
        "\n",
        "# Calculate the determinant of the matrix\n",
        "determinant = torch.linalg.det(matrix)\n",
        "print(\"Determinant:\", determinant.item())\n",
        "print()\n",
        "\n",
        "# Calculate the inverse of the matrix\n",
        "inverse_matrix = torch.linalg.inv(matrix)\n",
        "print(\"Inverse Matrix:\")\n",
        "print(inverse_matrix)\n",
        "print()\n",
        "\n",
        "# Solve a linear system of equations\n",
        "vector = torch.tensor([10, 8], dtype=torch.float32)\n",
        "solution = torch.linalg.solve(matrix, vector)\n",
        "print(\"Solution to Ax = b:\", solution)\n",
        "print()\n",
        "\n",
        "# Eigenvalues and eigenvectors\n",
        "eigenvalues, eigenvectors = torch.linalg.eig(matrix)\n",
        "print(\"Eigenvalues:\", eigenvalues)\n",
        "print(\"Eigenvectors:\")\n",
        "print(eigenvectors)\n"
      ],
      "metadata": {
        "colab": {
          "base_uri": "https://localhost:8080/"
        },
        "id": "vDp7t6Z5L8ao",
        "outputId": "b92f6333-3fe7-424e-f055-acf427ff822d"
      },
      "execution_count": 29,
      "outputs": [
        {
          "output_type": "stream",
          "name": "stdout",
          "text": [
            "Determinant: 1.0\n",
            "\n",
            "Inverse Matrix:\n",
            "tensor([[ 5., -2.],\n",
            "        [-2.,  1.]])\n",
            "\n",
            "Solution to Ax = b: tensor([ 34., -12.])\n",
            "\n",
            "Eigenvalues: tensor([0.1716+0.j, 5.8284+0.j])\n",
            "Eigenvectors:\n",
            "tensor([[-0.9239+0.j, -0.3827+0.j],\n",
            "        [ 0.3827+0.j, -0.9239+0.j]])\n"
          ]
        }
      ]
    },
    {
      "cell_type": "markdown",
      "source": [
        "## 2. Creating Models with nn.Module:\n",
        "\n",
        "`nn.Module` is a powerful tool for constructing neural network models. It allows you to define and manage layers, activation functions, and custom functions conveniently. `nn` provides access to many of the layers we might use such as:\n",
        "\n",
        "- Convolution Layers\n",
        "- Recurrent Layers\n",
        "- Transformer Layers for advance NLP applications\n",
        "\n",
        "in PyTorch define our neural network by subclassing `nn.Module`, and initialize the neural network layers in `__init__`. Every `nn.Module` must implement the operations on input data in the forward method. the backward method is done by torch"
      ],
      "metadata": {
        "id": "DFMPjWd_9pjq"
      }
    },
    {
      "cell_type": "code",
      "source": [
        "import torch\n",
        "import torch.nn as nn\n",
        "\n",
        "class NeuralNetwork(nn.Module):\n",
        "    def __init__(self):\n",
        "        super().__init__()\n",
        "        self.flatten = nn.Flatten()\n",
        "        self.linear_relu_stack = nn.Sequential(\n",
        "            nn.Linear(28*28, 512),\n",
        "            nn.ReLU(),\n",
        "            nn.Linear(512, 512),\n",
        "            nn.ReLU(),\n",
        "            nn.Linear(512, 10),\n",
        "        )\n",
        "\n",
        "    def forward(self, x):\n",
        "        x = self.flatten(x)\n",
        "        out = self.linear_relu_stack(x)\n",
        "        return out"
      ],
      "metadata": {
        "id": "UsjCwcdU-0Ll"
      },
      "execution_count": null,
      "outputs": []
    },
    {
      "cell_type": "code",
      "source": [
        "net = NeuralNetwork()\n",
        "print(net)"
      ],
      "metadata": {
        "colab": {
          "base_uri": "https://localhost:8080/"
        },
        "id": "tG7JGvbj_k-Q",
        "outputId": "43bea748-e2a4-406c-d727-c7c4e737352a"
      },
      "execution_count": 8,
      "outputs": [
        {
          "output_type": "stream",
          "name": "stdout",
          "text": [
            "NeuralNetwork(\n",
            "  (flatten): Flatten(start_dim=1, end_dim=-1)\n",
            "  (linear_relu_stack): Sequential(\n",
            "    (0): Linear(in_features=784, out_features=512, bias=True)\n",
            "    (1): ReLU()\n",
            "    (2): Linear(in_features=512, out_features=512, bias=True)\n",
            "    (3): ReLU()\n",
            "    (4): Linear(in_features=512, out_features=10, bias=True)\n",
            "  )\n",
            ")\n"
          ]
        }
      ]
    },
    {
      "cell_type": "markdown",
      "source": [
        "## 3. Saving Models:\n",
        "Saving models after training is crucial for reuse and sharing. PyTorch lets you save model parameters, which include learned weights and biases. when it comes to saving the model there are 2 main APIs or backends that PyTorch provides\n",
        "\n",
        "- Torch saved models\n",
        "- ONNX Backend\n",
        "\n",
        "The cool thing about onnx is it's open source and you can load it anywhere literally:\n",
        "- C++ to run a torch model on an Arduino borad\n",
        "- JavaScript to run a torch model in the web\n",
        "- Even Java if you wanted to make a mobile app"
      ],
      "metadata": {
        "id": "NS5in-1wBYgO"
      }
    },
    {
      "cell_type": "code",
      "source": [
        "# Torch backend\n",
        "torch.save(net.state_dict(), \"Model.pt\") # this is like pickel\n",
        "\n",
        "# ONNX Backend\n",
        "torch.onnx.export(net, torch.ones(1,28,28), \"model.onnx\",input_names=[\"X\"], output_names=[\"y\"])"
      ],
      "metadata": {
        "id": "d1w-XyLe_9IX",
        "colab": {
          "base_uri": "https://localhost:8080/"
        },
        "outputId": "f4585e16-235a-4f18-c7aa-23c72952a68e"
      },
      "execution_count": 14,
      "outputs": [
        {
          "output_type": "stream",
          "name": "stdout",
          "text": [
            "============= Diagnostic Run torch.onnx.export version 2.0.1+cu118 =============\n",
            "verbose: False, log level: Level.ERROR\n",
            "======================= 0 NONE 0 NOTE 0 WARNING 0 ERROR ========================\n",
            "\n"
          ]
        }
      ]
    },
    {
      "cell_type": "markdown",
      "source": [
        "# Torch and the existing python ecosystem\n"
      ],
      "metadata": {
        "id": "iQWgGZRfGdkj"
      }
    },
    {
      "cell_type": "code",
      "source": [
        "import torch\n",
        "import numpy as np\n",
        "import pandas as pd\n",
        "import seaborn as sns\n",
        "\n",
        "# Convert PyTorch tensor to NumPy array\n",
        "pytorch_tensor = torch.tensor([1, 2, 3])\n",
        "numpy_array = pytorch_tensor.numpy()\n",
        "\n",
        "# Convert NumPy array to PyTorch tensor\n",
        "numpy_array = np.array([4, 5, 6])\n",
        "pytorch_tensor = torch.from_numpy(numpy_array)\n",
        "\n",
        "# Create a Pandas DataFrame from a PyTorch tensor\n",
        "data = {'Age': torch.randint(18, 30, (5,)),\n",
        "        \"Name\": [\"Alice\", \"Mark\", \"John\", \"Priya\", \"Tom\"]} # Tensors cannot be strings\n",
        "df = pd.DataFrame(data)\n",
        "\n",
        "# Using Seaborn for visualization\n",
        "data = torch.randn(1000)\n",
        "sns.histplot(data, kde=True)\n"
      ],
      "metadata": {
        "colab": {
          "base_uri": "https://localhost:8080/",
          "height": 447
        },
        "id": "dU9Gg6WEGk6H",
        "outputId": "968e288d-76ea-4bcc-a609-de8cf098e579"
      },
      "execution_count": 22,
      "outputs": [
        {
          "output_type": "execute_result",
          "data": {
            "text/plain": [
              "<Axes: ylabel='Count'>"
            ]
          },
          "metadata": {},
          "execution_count": 22
        },
        {
          "output_type": "display_data",
          "data": {
            "text/plain": [
              "<Figure size 640x480 with 1 Axes>"
            ],
            "image/png": "[encoded data removed]"
          },
          "metadata": {}
        }
      ]
    },
    {
      "cell_type": "code",
      "source": [
        "df"
      ],
      "metadata": {
        "colab": {
          "base_uri": "https://localhost:8080/",
          "height": 206
        },
        "id": "-Is8gWfSG545",
        "outputId": "7ec4067a-540d-43fd-9c7b-ef4c45328130"
      },
      "execution_count": 23,
      "outputs": [
        {
          "output_type": "execute_result",
          "data": {
            "text/plain": [
              "   Age   Name\n",
              "0   19  Alice\n",
              "1   29   Mark\n",
              "2   20   John\n",
              "3   21  Priya\n",
              "4   25    Tom"
            ],
            "text/html": [
              "\n",
              "  <div id=\"df-cf53bd51-7b2f-4d0c-b1c4-b3caa60df0c3\" class=\"colab-df-container\">\n",
              "    <div>\n",
              "<style scoped>\n",
              "    .dataframe tbody tr th:only-of-type {\n",
              "        vertical-align: middle;\n",
              "    }\n",
              "\n",
              "    .dataframe tbody tr th {\n",
              "        vertical-align: top;\n",
              "    }\n",
              "\n",
              "    .dataframe thead th {\n",
              "        text-align: right;\n",
              "    }\n",
              "</style>\n",
              "<table border=\"1\" class=\"dataframe\">\n",
              "  <thead>\n",
              "    <tr style=\"text-align: right;\">\n",
              "      <th></th>\n",
              "      <th>Age</th>\n",
              "      <th>Name</th>\n",
              "    </tr>\n",
              "  </thead>\n",
              "  <tbody>\n",
              "    <tr>\n",
              "      <th>0</th>\n",
              "      <td>19</td>\n",
              "      <td>Alice</td>\n",
              "    </tr>\n",
              "    <tr>\n",
              "      <th>1</th>\n",
              "      <td>29</td>\n",
              "      <td>Mark</td>\n",
              "    </tr>\n",
              "    <tr>\n",
              "      <th>2</th>\n",
              "      <td>20</td>\n",
              "      <td>John</td>\n",
              "    </tr>\n",
              "    <tr>\n",
              "      <th>3</th>\n",
              "      <td>21</td>\n",
              "      <td>Priya</td>\n",
              "    </tr>\n",
              "    <tr>\n",
              "      <th>4</th>\n",
              "      <td>25</td>\n",
              "      <td>Tom</td>\n",
              "    </tr>\n",
              "  </tbody>\n",
              "</table>\n",
              "</div>\n",
              "    <div class=\"colab-df-buttons\">\n",
              "\n",
              "  <div class=\"colab-df-container\">\n",
              "    <button class=\"colab-df-convert\" onclick=\"convertToInteractive('df-cf53bd51-7b2f-4d0c-b1c4-b3caa60df0c3')\"\n",
              "            title=\"Convert this dataframe to an interactive table.\"\n",
              "            style=\"display:none;\">\n",
              "\n",
              "  <svg xmlns=\"http://www.w3.org/2000/svg\" height=\"24px\" viewBox=\"0 -960 960 960\">\n",
              "    <path d=\"M120-120v-720h720v720H120Zm60-500h600v-160H180v160Zm220 220h160v-160H400v160Zm0 220h160v-160H400v160ZM180-400h160v-160H180v160Zm440 0h160v-160H620v160ZM180-180h160v-160H180v160Zm440 0h160v-160H620v160Z\"/>\n",
              "  </svg>\n",
              "    </button>\n",
              "\n",
              "  <style>\n",
              "    .colab-df-container {\n",
              "      display:flex;\n",
              "      gap: 12px;\n",
              "    }\n",
              "\n",
              "    .colab-df-convert {\n",
              "      background-color: #E8F0FE;\n",
              "      border: none;\n",
              "      border-radius: 50%;\n",
              "      cursor: pointer;\n",
              "      display: none;\n",
              "      fill: #1967D2;\n",
              "      height: 32px;\n",
              "      padding: 0 0 0 0;\n",
              "      width: 32px;\n",
              "    }\n",
              "\n",
              "    .colab-df-convert:hover {\n",
              "      background-color: #E2EBFA;\n",
              "      box-shadow: 0px 1px 2px rgba(60, 64, 67, 0.3), 0px 1px 3px 1px rgba(60, 64, 67, 0.15);\n",
              "      fill: #174EA6;\n",
              "    }\n",
              "\n",
              "    .colab-df-buttons div {\n",
              "      margin-bottom: 4px;\n",
              "    }\n",
              "\n",
              "    [theme=dark] .colab-df-convert {\n",
              "      background-color: #3B4455;\n",
              "      fill: #D2E3FC;\n",
              "    }\n",
              "\n",
              "    [theme=dark] .colab-df-convert:hover {\n",
              "      background-color: #434B5C;\n",
              "      box-shadow: 0px 1px 3px 1px rgba(0, 0, 0, 0.15);\n",
              "      filter: drop-shadow(0px 1px 2px rgba(0, 0, 0, 0.3));\n",
              "      fill: #FFFFFF;\n",
              "    }\n",
              "  </style>\n",
              "\n",
              "    <script>\n",
              "      const buttonEl =\n",
              "        document.querySelector('#df-cf53bd51-7b2f-4d0c-b1c4-b3caa60df0c3 button.colab-df-convert');\n",
              "      buttonEl.style.display =\n",
              "        google.colab.kernel.accessAllowed ? 'block' : 'none';\n",
              "\n",
              "      async function convertToInteractive(key) {\n",
              "        const element = document.querySelector('#df-cf53bd51-7b2f-4d0c-b1c4-b3caa60df0c3');\n",
              "        const dataTable =\n",
              "          await google.colab.kernel.invokeFunction('convertToInteractive',\n",
              "                                                    [key], {});\n",
              "        if (!dataTable) return;\n",
              "\n",
              "        const docLinkHtml = 'Like what you see? Visit the ' +\n",
              "          '<a target=\"_blank\" href=https://colab.research.google.com/notebooks/data_table.ipynb>data table notebook</a>'\n",
              "          + ' to learn more about interactive tables.';\n",
              "        element.innerHTML = '';\n",
              "        dataTable['output_type'] = 'display_data';\n",
              "        await google.colab.output.renderOutput(dataTable, element);\n",
              "        const docLink = document.createElement('div');\n",
              "        docLink.innerHTML = docLinkHtml;\n",
              "        element.appendChild(docLink);\n",
              "      }\n",
              "    </script>\n",
              "  </div>\n",
              "\n",
              "\n",
              "<div id=\"df-550b9fb9-b744-4046-8d8a-213dc88a832f\">\n",
              "  <button class=\"colab-df-quickchart\" onclick=\"quickchart('df-550b9fb9-b744-4046-8d8a-213dc88a832f')\"\n",
              "            title=\"Suggest charts.\"\n",
              "            style=\"display:none;\">\n",
              "\n",
              "<svg xmlns=\"http://www.w3.org/2000/svg\" height=\"24px\"viewBox=\"0 0 24 24\"\n",
              "     width=\"24px\">\n",
              "    <g>\n",
              "        <path d=\"M19 3H5c-1.1 0-2 .9-2 2v14c0 1.1.9 2 2 2h14c1.1 0 2-.9 2-2V5c0-1.1-.9-2-2-2zM9 17H7v-7h2v7zm4 0h-2V7h2v10zm4 0h-2v-4h2v4z\"/>\n",
              "    </g>\n",
              "</svg>\n",
              "  </button>\n",
              "\n",
              "<style>\n",
              "  .colab-df-quickchart {\n",
              "    background-color: #E8F0FE;\n",
              "    border: none;\n",
              "    border-radius: 50%;\n",
              "    cursor: pointer;\n",
              "    display: none;\n",
              "    fill: #1967D2;\n",
              "    height: 32px;\n",
              "    padding: 0 0 0 0;\n",
              "    width: 32px;\n",
              "  }\n",
              "\n",
              "  .colab-df-quickchart:hover {\n",
              "    background-color: #E2EBFA;\n",
              "    box-shadow: 0px 1px 2px rgba(60, 64, 67, 0.3), 0px 1px 3px 1px rgba(60, 64, 67, 0.15);\n",
              "    fill: #174EA6;\n",
              "  }\n",
              "\n",
              "  [theme=dark] .colab-df-quickchart {\n",
              "    background-color: #3B4455;\n",
              "    fill: #D2E3FC;\n",
              "  }\n",
              "\n",
              "  [theme=dark] .colab-df-quickchart:hover {\n",
              "    background-color: #434B5C;\n",
              "    box-shadow: 0px 1px 3px 1px rgba(0, 0, 0, 0.15);\n",
              "    filter: drop-shadow(0px 1px 2px rgba(0, 0, 0, 0.3));\n",
              "    fill: #FFFFFF;\n",
              "  }\n",
              "</style>\n",
              "\n",
              "  <script>\n",
              "    async function quickchart(key) {\n",
              "      const charts = await google.colab.kernel.invokeFunction(\n",
              "          'suggestCharts', [key], {});\n",
              "    }\n",
              "    (() => {\n",
              "      let quickchartButtonEl =\n",
              "        document.querySelector('#df-550b9fb9-b744-4046-8d8a-213dc88a832f button');\n",
              "      quickchartButtonEl.style.display =\n",
              "        google.colab.kernel.accessAllowed ? 'block' : 'none';\n",
              "    })();\n",
              "  </script>\n",
              "</div>\n",
              "    </div>\n",
              "  </div>\n"
            ]
          },
          "metadata": {},
          "execution_count": 23
        }
      ]
    }
  ]
}